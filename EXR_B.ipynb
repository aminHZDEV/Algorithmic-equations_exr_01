{
 "cells": [
  {
   "cell_type": "code",
   "execution_count": 75,
   "id": "e976bcc1",
   "metadata": {},
   "outputs": [],
   "source": [
    "import pandas as pd\n",
    "from statsmodels.tsa.stattools import adfuller\n",
    "from datetime import datetime\n",
    "import matplotlib.pyplot as plt"
   ]
  },
  {
   "cell_type": "code",
   "execution_count": 76,
   "id": "456939f5",
   "metadata": {},
   "outputs": [],
   "source": [
    "def parser(s):\n",
    "    return datetime.strptime(s, '%Y-%m-%d')"
   ]
  },
  {
   "cell_type": "code",
   "execution_count": 77,
   "id": "cfadacf9",
   "metadata": {},
   "outputs": [],
   "source": [
    "def perform_adf_test(series):\n",
    "    result = adfuller(series)\n",
    "    return result[1]"
   ]
  },
  {
   "cell_type": "code",
   "execution_count": 78,
   "id": "3cee2969",
   "metadata": {},
   "outputs": [],
   "source": [
    "\n",
    "def get_final_result(series_A, series_B):\n",
    "    myadf = 1\n",
    "    p_1 = -100\n",
    "    p_2 = -100\n",
    "    for p1 in range(-100,100):\n",
    "        for p2 in range(-100,100):\n",
    "            c = series_A.multiply(other = p1) + series_B.multiply(other = p2)\n",
    "            adf = perform_adf_test(c)\n",
    "#             if  adf < 0.1:\n",
    "#                 return {'p1': p1, 'p2': p2 , 'p_value': perform_adf_test(c)} \n",
    "#     return {'p1': 'not found', 'p2': 'not found', 'p_value': 'not found'}\n",
    "            if myadf > adf:\n",
    "                myadf = adf\n",
    "                p_1 = p1\n",
    "                p_2 = p2\n",
    "    return {'p1': p_1, 'p2': p_2 , 'p_value': myadf} "
   ]
  },
  {
   "cell_type": "code",
   "execution_count": 79,
   "id": "3bd18259",
   "metadata": {},
   "outputs": [
    {
     "data": {
      "text/plain": [
       "Date\n",
       "2021-11-02    2907.699951\n",
       "2021-11-03    2937.100098\n",
       "2021-11-04    2961.899902\n",
       "2021-11-05    2979.100098\n",
       "2021-11-06    2986.600098\n",
       "                 ...     \n",
       "2022-10-29      96.610001\n",
       "2022-10-30      96.440002\n",
       "2022-10-31      94.930000\n",
       "2022-11-01      90.790001\n",
       "2022-11-02      90.930000\n",
       "Freq: D, Name: Close, Length: 366, dtype: float64"
      ]
     },
     "execution_count": 79,
     "metadata": {},
     "output_type": "execute_result"
    }
   ],
   "source": [
    "google_close_df = pd.read_csv('GOOGL-USD.csv', parse_dates=[0], index_col=0, date_parser=parser)\n",
    "\n",
    "google_close_df = google_close_df.asfreq(pd.infer_freq(google_close_df.index))\n",
    "\n",
    "g_close_series = google_close_df.Close\n",
    "\n",
    "g_close_series"
   ]
  },
  {
   "cell_type": "code",
   "execution_count": 80,
   "id": "e88699b5",
   "metadata": {},
   "outputs": [],
   "source": [
    "amazon_close_df = pd.read_csv('AMZN-USD.csv', parse_dates=[0], index_col=0, date_parser=parser)\n",
    "\n",
    "amazon_close_df = amazon_close_df.asfreq(pd.infer_freq(amazon_close_df.index))\n",
    "\n",
    "a_close_series = amazon_close_df.Close\n"
   ]
  },
  {
   "cell_type": "code",
   "execution_count": 81,
   "id": "dde4d542",
   "metadata": {},
   "outputs": [
    {
     "name": "stderr",
     "output_type": "stream",
     "text": [
      "/home/y/Desktop/iust/moadelat algorithmi/کدهای فصل سوم (به مرور تکمیل می گردد)-20221102/venv/lib/python3.10/site-packages/statsmodels/regression/linear_model.py:940: RuntimeWarning: divide by zero encountered in log\n",
      "  llf = -nobs2*np.log(2*np.pi) - nobs2*np.log(ssr / nobs) - nobs2\n"
     ]
    },
    {
     "name": "stdout",
     "output_type": "stream",
     "text": [
      " P1 :  -97  P2 :  79  P VALUE :  0.19407700666663158\n"
     ]
    }
   ],
   "source": [
    "result = get_final_result(g_close_series, a_close_series)\n",
    "print( \" P1 : \", result['p1'] ,\" P2 : \", result['p2'] ,\" P VALUE : \", result['p_value']  )\n",
    "\n",
    "        "
   ]
  },
  {
   "cell_type": "code",
   "execution_count": null,
   "id": "43264fdc",
   "metadata": {},
   "outputs": [],
   "source": []
  }
 ],
 "metadata": {
  "kernelspec": {
   "display_name": "Python 3 (ipykernel)",
   "language": "python",
   "name": "python3"
  },
  "language_info": {
   "codemirror_mode": {
    "name": "ipython",
    "version": 3
   },
   "file_extension": ".py",
   "mimetype": "text/x-python",
   "name": "python",
   "nbconvert_exporter": "python",
   "pygments_lexer": "ipython3",
   "version": "3.10.6"
  }
 },
 "nbformat": 4,
 "nbformat_minor": 5
}
